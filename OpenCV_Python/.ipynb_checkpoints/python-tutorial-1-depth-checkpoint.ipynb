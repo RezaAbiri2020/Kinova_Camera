{
 "cells": [
  {
   "cell_type": "code",
   "execution_count": 1,
   "id": "3b1fd6bd",
   "metadata": {},
   "outputs": [],
   "source": [
    "import cv2"
   ]
  },
  {
   "cell_type": "code",
   "execution_count": 2,
   "id": "ba7a20c9",
   "metadata": {},
   "outputs": [],
   "source": [
    "import pyrealsense2"
   ]
  },
  {
   "cell_type": "code",
   "execution_count": null,
   "id": "a2a660af",
   "metadata": {},
   "outputs": [],
   "source": [
    "## Streaming using rs.pipeline\n",
    "\n",
    "# First import the library\n",
    "import pyrealsense2 as rs\n",
    "\n",
    "# Create a context object. This object owns the handles to all connected realsense devices\n",
    "pipeline = rs.pipeline()\n",
    "pipeline.start()\n",
    "\n",
    "try:\n",
    "    while True:\n",
    "        # Create a pipeline object. This object configures the streaming camera and owns it's handle\n",
    "        frames = pipeline.wait_for_frames()\n",
    "        depth = frames.get_depth_frame()\n",
    "        if not depth: continue\n",
    "\n",
    "        # Print a simple text-based representation of the image, by breaking it into 10x20 pixel regions and approximating the coverage of pixels within one meter\n",
    "        coverage = [0]*64\n",
    "        for y in xrange(480):\n",
    "            for x in xrange(640):\n",
    "                dist = depth.get_distance(x, y)\n",
    "                if 0 < dist and dist < 1:\n",
    "                    coverage[x/10] += 1\n",
    "\n",
    "            if y%20 is 19:\n",
    "                line = \"\"\n",
    "                for c in coverage:\n",
    "                    line += \" .:nhBXWW\"[c/25]\n",
    "                coverage = [0]*64\n",
    "                print(line)\n",
    "\n",
    "finally:\n",
    "    pipeline.stop()"
   ]
  }
 ],
 "metadata": {
  "kernelspec": {
   "display_name": "Python 3",
   "language": "python",
   "name": "python3"
  },
  "language_info": {
   "codemirror_mode": {
    "name": "ipython",
    "version": 3
   },
   "file_extension": ".py",
   "mimetype": "text/x-python",
   "name": "python",
   "nbconvert_exporter": "python",
   "pygments_lexer": "ipython3",
   "version": "3.8.5"
  }
 },
 "nbformat": 4,
 "nbformat_minor": 5
}
